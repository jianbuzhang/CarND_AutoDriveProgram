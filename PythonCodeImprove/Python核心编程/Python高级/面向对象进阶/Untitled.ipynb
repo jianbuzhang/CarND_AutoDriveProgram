{
 "cells": [
  {
   "cell_type": "markdown",
   "metadata": {},
   "source": [
    "## python装饰器\n",
    "   装饰器是程序开发中经常会用到的一个功能，用好了装饰器，开发效率如虎添翼，所以这也是Python面试中必问的问题，但对于好多初次接触这个知识的人来讲，这个功能有点绕，自学时直接绕过去了，然后面试问到了就挂了，因为装饰器是程序开发的基础知识，这个都不会，别跟人家说你会Python, 看了下面的文章，保证你学会装饰器。"
   ]
  },
  {
   "cell_type": "code",
   "execution_count": 9,
   "metadata": {},
   "outputs": [
    {
     "name": "stdout",
     "output_type": "stream",
     "text": [
      "foo\n"
     ]
    }
   ],
   "source": [
    "#先明白这段代码\n",
    "\n",
    "####  第一波  ####\n",
    "def foo():\n",
    "    print('foo')\n",
    "\n",
    "foo  #表示是函数\n",
    "foo()  #表示执行foo函数\n",
    "\n",
    "####  第二波  ####\n",
    "def fooA():\n",
    "    print('foo')\n",
    "\n",
    "fooA=lambda x : x+1\n",
    "\n",
    "# 执行下面的lambda表达式，而不再是原来的foo函数，\n",
    "# 因为foo这个名字被重新指向了另外一个匿名函数\n",
    "# fooA()  \n"
   ]
  },
  {
   "cell_type": "code",
   "execution_count": 11,
   "metadata": {},
   "outputs": [],
   "source": [
    "# 2.需求来了\n",
    "'''\n",
    "初创公司有N个业务部门，1个基础平台部门，基础平台负责提供底层的功能，\n",
    "如：数据库操作、redis调用、监控API等功能；\n",
    "业务部门使用基础功能时，只需要调用基础平台提供的功能即可，如下：\n",
    "'''\n",
    "\n",
    "###########  基础平台提供的功能如下  ##############\n",
    "def f1():\n",
    "    print('f1')\n",
    "\n",
    "def f2():\n",
    "    print('f2')\n",
    "\n",
    "def f3():\n",
    "    print('f3')\n",
    "\n",
    "def f4():\n",
    "    print('f4')\n",
    "\n",
    "###########  业务部门A 调用基础平台提供的功能  ##############\n",
    "f1()\n",
    "f2()\n",
    "f3()\n",
    "f4()\n",
    "\n",
    "###########  业务部门B 调用基础平台提供的功能  ##############\n",
    "f1()\n",
    "f2()\n",
    "f3()\n",
    "f4()\n"
   ]
  },
  {
   "cell_type": "markdown",
   "metadata": {},
   "source": [
    "## 需要对之前代码进行业务变更\n",
    "\n",
    "目前公司有条不紊的进行着，但是，以前基础平台的开发人员在写代码时候\n",
    "没有关注验证相关的问题，即：基础平台的提供的功能可以被任何人使用。\n",
    "现在需要对基础平台的所有功能进行重构，\n",
    "为平台提供的所有功能添加验证机制，即：执行功能前，先进行验证。\n",
    "\n",
    "## 老大把工作交给 Low B,他是这么做的：\n",
    "跟每个业务部门交涉，每个业务部门自己写代码，调用基础平台的功能之前先验证。哎，这样一来基础平台就不需要做任何修改了；\n",
    "当天Low B就被开除了。。。\n",
    "\n",
    "## 老大把工作交给Low BB,他是这么做的：\n"
   ]
  },
  {
   "cell_type": "code",
   "execution_count": 12,
   "metadata": {},
   "outputs": [
    {
     "name": "stdout",
     "output_type": "stream",
     "text": [
      "f1\n",
      "f2\n",
      "f3\n",
      "f4\n",
      "f1\n",
      "f2\n",
      "f3\n",
      "f4\n"
     ]
    }
   ],
   "source": [
    "############### 基础平台提供的功能如下 ############### \n",
    "\n",
    "def f1():\n",
    "    # 验证1\n",
    "    # 验证2\n",
    "    # 验证3\n",
    "    print('f1')\n",
    "\n",
    "def f2():\n",
    "    # 验证1\n",
    "    # 验证2\n",
    "    # 验证3\n",
    "    print('f2')\n",
    "\n",
    "def f3():\n",
    "    # 验证1\n",
    "    # 验证2\n",
    "    # 验证3\n",
    "    print('f3')\n",
    "\n",
    "def f4():\n",
    "    # 验证1\n",
    "    # 验证2\n",
    "    # 验证3\n",
    "    print('f4')\n",
    "\n",
    "############### 业务部门不变 ############### \n",
    "### 业务部门A 调用基础平台提供的功能### \n",
    "\n",
    "f1()\n",
    "f2()\n",
    "f3()\n",
    "f4()\n",
    "\n",
    "### 业务部门B 调用基础平台提供的功能 ### \n",
    "\n",
    "f1()\n",
    "f2()\n",
    "f3()\n",
    "f4()"
   ]
  },
  {
   "cell_type": "markdown",
   "metadata": {},
   "source": [
    "过了一周 Low BB被开除了\n",
    "## 老大把工作交给Low BB,他是这么做的：\n",
    "只对基础平台的代码进行重构，其他业务部门无需做任何修改"
   ]
  },
  {
   "cell_type": "code",
   "execution_count": 13,
   "metadata": {
    "collapsed": true
   },
   "outputs": [],
   "source": [
    "############### 基础平台提供的功能如下 ############### \n",
    "\n",
    "def check_login():\n",
    "    # 验证1\n",
    "    # 验证2\n",
    "    # 验证3\n",
    "    pass\n",
    "\n",
    "\n",
    "def f1():\n",
    "\n",
    "    check_login()\n",
    "\n",
    "    print('f1')\n",
    "\n",
    "def f2():\n",
    "\n",
    "    check_login()\n",
    "\n",
    "    print('f2')\n",
    "\n",
    "def f3():\n",
    "\n",
    "    check_login()\n",
    "\n",
    "    print('f3')\n",
    "\n",
    "def f4():\n",
    "\n",
    "    check_login()\n",
    "\n",
    "    print('f4')"
   ]
  },
  {
   "cell_type": "code",
   "execution_count": null,
   "metadata": {
    "collapsed": true
   },
   "outputs": [],
   "source": []
  }
 ],
 "metadata": {
  "kernelspec": {
   "display_name": "Python 3",
   "language": "python",
   "name": "python3"
  },
  "language_info": {
   "codemirror_mode": {
    "name": "ipython",
    "version": 3
   },
   "file_extension": ".py",
   "mimetype": "text/x-python",
   "name": "python",
   "nbconvert_exporter": "python",
   "pygments_lexer": "ipython3",
   "version": "3.6.3"
  }
 },
 "nbformat": 4,
 "nbformat_minor": 2
}
