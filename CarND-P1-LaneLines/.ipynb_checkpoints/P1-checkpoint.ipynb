{
 "cells": [
  {
   "cell_type": "markdown",
   "metadata": {},
   "source": [
    "# 无人驾驶工程师纳米学位\n",
    "\n",
    "\n",
    "## 项目: **车道线检测** \n",
    "***\n",
    "在这个项目中，你将使用您在课程中学到的工具来识别道路上的车道线。你可以先在单张图片上调试算法，然后将该算法应于视频流（实际上只是一系列图片）。你可以先在本地预览 `raw-lines-example.mp4` 这个视频，使用下面帮助函数处理以后，应该输出类似的结果。\n",
    "\n",
    "一旦你达到 `raw-lines-example.mp4` 的效果以后，你就需要发挥你的想象，尝试使用平均或者延长线段的方法，绘制出完整的车道线。你可以在 `P1_example.mp4` 视频中看到预期的效果。最终我们只会在左边和右边各画一条车道线。\n",
    "\n",
    "除了实现代码之外，你还需要写一个简短的报告。报告应该单独提交一个文件，可以是一个 pdf 文档或者一个 markdown 文件。可以参考这个[报告模板](writeup_template.md)。你需要完成项目代码和报告，通过项目需要满足该项目的每一条[项目要求](https://review.udacity.com/#!/rubrics/322/view)。\n",
    "\n",
    "---\n",
    "现在让我们来看看我们的第一张图片，'test_images/solidWhiteRight.jpg'，运行下面的2个单元格（按Shift-Enter或上面的“播放”按钮）显示图片。\n",
    "\n",
    "**注意：如果在运行代码时候遇到窗口卡住，或者其他奇奇怪怪的问题，比如代码块左边显示一个星号，您可以随时点上面的“Kernel”菜单并选择“Restart & Clear Output“，重新启动内核并清空输出。**\n",
    "\n",
    "---"
   ]
  },
  {
   "cell_type": "markdown",
   "metadata": {},
   "source": [
    "**你现在有一系列的图像处理工具，比如颜色选择（cv2.inRange）、目标区域选择（region_of_interest）、灰度转换、高斯模糊、Canny 边缘检测和霍夫变换直线检测。当然你也可以自由探索其他未提及的技术。你的目的是使用这些算法搭建一个完整的识别流程，首先识别图像中的线段，然后平均/延长线段，最后绘制在原图上。当你完成一整套流程以后，你就可以尝试处理视频流了。**\n",
    "\n",
    "---\n",
    "\n",
    "<figure>\n",
    " <img src=\"examples/line-segments-example.jpg\" width=\"380\" alt=\"Combined Image\" />\n",
    " <figcaption>\n",
    " <p></p> \n",
    " <p style=\"text-align: center;\"> 在使用下面的帮助函数检测线段之后，输出应该看起来像这样（上图） </p> \n",
    " </figcaption>\n",
    "</figure>\n",
    " <p></p> \n",
    "<figure>\n",
    " <img src=\"examples/laneLines_thirdPass.jpg\" width=\"380\" alt=\"Combined Image\" />\n",
    " <figcaption>\n",
    " <p></p> \n",
    " <p style=\"text-align: center;\"> 你的目标是连接/平均/延长线段以获得这样的输出</p> \n",
    " </figcaption>\n",
    "</figure>"
   ]
  },
  {
   "cell_type": "markdown",
   "metadata": {},
   "source": [
    "**运行下面的代码块导入一些库。 如果你已经安装了这些库，但是还是出现 `import error`，请尝试更改内核（选择上面的 Kernel -> Change Kernel）。如果还有问题，请尝试从终端提示符重新启动 Jupyter Notebook。 可以在论坛中提问以获取更多帮助。**"
   ]
  },
  {
   "cell_type": "markdown",
   "metadata": {},
   "source": [
    "## 导入库"
   ]
  },
  {
   "cell_type": "code",
   "execution_count": null,
   "metadata": {
    "collapsed": true
   },
   "outputs": [],
   "source": [
    "# 导入一些有用的库\n",
    "\n",
    "import matplotlib.pyplot as plt\n",
    "import matplotlib.image as mpimg\n",
    "import numpy as np\n",
    "import cv2\n",
    "%matplotlib inline"
   ]
  },
  {
   "cell_type": "markdown",
   "metadata": {},
   "source": [
    "## 读取一张图片\n",
    "\n",
    "如果你想显示单通道的图像，比如灰度图，你需要添加 gray 参数：\n",
    "\n",
    "```py\n",
    "plt.imshow(gray, cmap='gray')\n",
    "```"
   ]
  },
  {
   "cell_type": "code",
   "execution_count": null,
   "metadata": {
    "collapsed": true
   },
   "outputs": [],
   "source": [
    "# 读入一张图片\n",
    "image = mpimg.imread('test_images/solidWhiteRight.jpg')\n",
    "\n",
    "# 输出一些信息，然后显示图片\n",
    "print('This image is:', type(image), 'with dimensions:', image.shape)\n",
    "plt.imshow(image)"
   ]
  },
  {
   "cell_type": "markdown",
   "metadata": {},
   "source": [
    "## 车道线检测的思路"
   ]
  },
  {
   "cell_type": "markdown",
   "metadata": {},
   "source": [
    "**除了课程中介绍的以外，还有一些可能在项目中会很有用的 OpenCV 函数:**\n",
    "\n",
    "* `cv2.inRange()` 用来进行颜色选择\n",
    "* `cv2.fillPoly()` 用来选择目标区域（ROI）\n",
    "* `cv2.line()` 用来在图像上画线\n",
    "* `cv2.addWeighted()`可以按权值叠加两幅图像\n",
    "* `cv2.cvtColor()`可以把图片转为其他的颜色空间，比如灰色\n",
    "* `cv2.imwrite()`可以写出图片到文件\n",
    "* `cv2.bitwise_and()`可以为图像添加蒙版（mask）（比如可以用于抠图）\n",
    "\n",
    "**如果你还想获得更多的功能，寻找更多的函数，请查看 OpenCV Python 教程（[OpenCV-Python Tutorials](http://docs.opencv.org/master/d6/d00/tutorial_py_root.html)）。**\n",
    "\n"
   ]
  },
  {
   "cell_type": "markdown",
   "metadata": {},
   "source": [
    "## 帮助函数\n",
    "\n",
    "下面是一些能够帮助你开始项目的函数，你应该在课上见过它们了。"
   ]
  },
  {
   "cell_type": "code",
   "execution_count": null,
   "metadata": {
    "collapsed": true
   },
   "outputs": [],
   "source": [
    "import math\n",
    "\n",
    "def grayscale(img):\n",
    "    \"\"\"进行灰度转换\n",
    "    此函数返回一个颜色通道的图片\n",
    "    如果你需要画灰度图，那么需要这样调用： plt.imshow(gray, cmap='gray')\"\"\"\n",
    "    return cv2.cvtColor(img, cv2.COLOR_RGB2GRAY)\n",
    "    # 如果你使用 cv2.imread() 读取图片，就要用 COLOR_BGR2GRAY 了，因为 OpenCV 的默认颜色通道顺序是 BGR\n",
    "    # return cv2.cvtColor(img, cv2.COLOR_BGR2GRAY)\n",
    "    \n",
    "def canny(img, low_threshold, high_threshold):\n",
    "    \"\"\"进行 Canny 转换\"\"\"\n",
    "    return cv2.Canny(img, low_threshold, high_threshold)\n",
    "\n",
    "def gaussian_blur(img, kernel_size):\n",
    "    \"\"\"进行高斯模糊\"\"\"\n",
    "    return cv2.GaussianBlur(img, (kernel_size, kernel_size), 0)\n",
    "\n",
    "def region_of_interest(img, vertices):\n",
    "    \"\"\"\n",
    "    应用图像蒙版。\n",
    "    \n",
    "    蒙版会保留由顶点构成的多边形内的部分，其余部分会被设置为黑色。\n",
    "    \"\"\"\n",
    "    # 定义一个空白蒙版\n",
    "    mask = np.zeros_like(img)   \n",
    "    \n",
    "    # 根据输入的图片通道数定义一个单通道或三通道的颜色变量\n",
    "    if len(img.shape) > 2:\n",
    "        channel_count = img.shape[2]  # 这个值可以是3或4，取决于输入的图像是多少个通道\n",
    "        ignore_mask_color = (255,) * channel_count\n",
    "    else:\n",
    "        ignore_mask_color = 255\n",
    "        \n",
    "    # 用刚才定义的颜色（ignore_mask_color）填充输入的顶点（vertices）组成的多边形区域，比如一个梯形区域\n",
    "    cv2.fillPoly(mask, vertices, ignore_mask_color)\n",
    "    \n",
    "    # 返回蒙版不为零的区域的图像\n",
    "    masked_image = cv2.bitwise_and(img, mask)\n",
    "    return masked_image\n",
    "\n",
    "\n",
    "def draw_lines(img, lines, color=[255, 0, 0], thickness=2):\n",
    "    \"\"\"\n",
    "    注意：你可能需要在这个函数里平均或者延伸线段，以绘制完整的车道线。\n",
    "    也就是说，你需要从 raw-lines-example.mp4 的效果做到 P1_example.mp4 的效果\n",
    "    \n",
    "    你可以通过计算斜率 ((y2-y1)/(x2-x1)) 来判断车道线是在左边还是右边，\n",
    "    你可以根据每条线的位置取平均来平滑直线，避免频繁抖动。\n",
    "    \n",
    "    这个函数会绘制`color`颜色和`thickness`宽度的`lines`线段。\n",
    "    调这个函数会直接把线段覆盖在图像，如果你想画半透明的线段，\n",
    "    可以调 weighted_img 函数实现半透明效果。\n",
    "    \"\"\"\n",
    "    for line in lines:\n",
    "        for x1,y1,x2,y2 in line:\n",
    "            cv2.line(img, (x1, y1), (x2, y2), color, thickness)\n",
    "\n",
    "def hough_lines(img, rho, theta, threshold, min_line_len, max_line_gap):\n",
    "    \"\"\"\n",
    "    `img`应该是Canny变换后的图像。\n",
    "        \n",
    "    返回绘制了线段，背景全黑的图像。\n",
    "    \"\"\"\n",
    "    lines = cv2.HoughLinesP(img, rho, theta, threshold, np.array([]), \n",
    "                            minLineLength=min_line_len, maxLineGap=max_line_gap)\n",
    "    line_img = np.zeros((img.shape[0], img.shape[1], 3), dtype=np.uint8)\n",
    "    draw_lines(line_img, lines)\n",
    "    return line_img\n",
    "\n",
    "# Python 3 可以支持 α，β 这样的数学符号\n",
    "\n",
    "def weighted_img(img, initial_img, α=0.8, β=1., λ=0.):\n",
    "    \"\"\"\n",
    "    `img` 应该是 hough_lines 的输出，也就是绘制了线段的背景全黑的图像。\n",
    "    \n",
    "    `initial_img` 应该输入原始的，未经处理的图像。\n",
    "    \n",
    "    最后输出的图像会按照这个公式计算：\n",
    "    \n",
    "    initial_img * α + img * β + λ\n",
    "    \n",
    "    注意：两个图像的 shape 必须一样！\n",
    "    \"\"\"\n",
    "    return cv2.addWeighted(initial_img, α, img, β, λ)"
   ]
  },
  {
   "cell_type": "markdown",
   "metadata": {},
   "source": [
    "## 测试图片\n",
    "\n",
    "我们可以先看看 test_images 文件夹下有哪些图片。"
   ]
  },
  {
   "cell_type": "code",
   "execution_count": null,
   "metadata": {
    "collapsed": true
   },
   "outputs": [],
   "source": [
    "import os\n",
    "os.listdir(\"test_images/\")"
   ]
  },
  {
   "cell_type": "markdown",
   "metadata": {},
   "source": [
    "## 构建车道线识别算法\n",
    "\n",
    "在测试图片上，构建你的车道线识别算法。\n",
    "**你需要在应用到视频流之前，先在这些图片上成功实现车道线识别。**\n",
    "\n",
    "构建算法并在所有 test_images 上运行你的解决方案。\n",
    "你可以把输出的图像写入到 test_images_output 目录中，并且在报告中使用这些图像。\n",
    "\n",
    "尝试调整各种参数，特别是 Canny 的两个阈值以及霍夫直线检测的参数。"
   ]
  },
  {
   "cell_type": "code",
   "execution_count": null,
   "metadata": {
    "collapsed": true
   },
   "outputs": [],
   "source": [
    "# TODO: 构建你的算法，并且把检测到的车道线画在原图上，然后保存在 test_images 目录中"
   ]
  },
  {
   "cell_type": "markdown",
   "metadata": {},
   "source": [
    "## 测试视频\n",
    "\n",
    "你知道吗，在视频上检测车道线比在图片上的效果要好太多！\n",
    "\n",
    "我们可以在下面两个视频上检验我们的算法:\n",
    "\n",
    "`solidWhiteRight.mp4`\n",
    "\n",
    "`solidYellowLeft.mp4`\n",
    "\n",
    "**运行下面的代码块导入一些库。 如果你已经安装了这些库，但是还是出现 `import error`，请尝试更改内核（选择上面的 Kernel -> Change Kernel）。 还有问题吗？尝试从终端提示符重新启动 Jupyter Notebook。 可以在论坛中提问以获取更多帮助。**\n",
    "\n",
    "**如果你遇到了类似下面的问题：**\n",
    "```\n",
    "NeedDownloadError: Need ffmpeg exe. \n",
    "You can download it by calling: \n",
    "imageio.plugins.ffmpeg.download()\n",
    "```\n",
    "**请按照这个 [论坛链接](https://discussions.udacity.com/t/project-error-of-test-on-videos/274082) 获取关于操作系统的更多帮助。**"
   ]
  },
  {
   "cell_type": "code",
   "execution_count": null,
   "metadata": {
    "collapsed": true
   },
   "outputs": [],
   "source": [
    "# 导入编辑、保存、查看视频的库和类\n",
    "from moviepy.editor import VideoFileClip\n",
    "from IPython.display import HTML"
   ]
  },
  {
   "cell_type": "code",
   "execution_count": null,
   "metadata": {
    "collapsed": true
   },
   "outputs": [],
   "source": [
    "def process_image(image):\n",
    "    # 注意： 你应该返回一个彩色的三通道图像\n",
    "    # TODO: 在下面实现你刚才写的算法，返回最后的在原图上画了线的图像\n",
    "\n",
    "    return result"
   ]
  },
  {
   "cell_type": "markdown",
   "metadata": {},
   "source": [
    "**让我们先尝试一下右边是一条白色实线车道的视频。**\n",
    "\n",
    "    为了加快测试过程，你可以在较短的视频上尝试你的算法\n",
    "    因此你可以添加 `.subclip(start_second,end_second)` 函数来裁剪视频\n",
    "    其中 start_second 和 end_second 表示剪辑开始和结束的时间\n",
    "    你也可以直接取消注释裁剪前五秒的那句代码。"
   ]
  },
  {
   "cell_type": "code",
   "execution_count": null,
   "metadata": {
    "collapsed": true
   },
   "outputs": [],
   "source": [
    "white_output = 'test_videos_output/solidWhiteRight.mp4'\n",
    "\n",
    "clip1 = VideoFileClip(\"test_videos/solidWhiteRight.mp4\")\n",
    "# clip1 = VideoFileClip(\"test_videos/solidWhiteRight.mp4\").subclip(0,5)\n",
    "white_clip = clip1.fl_image(process_image) # 注意: 这个函数需要彩色图像！\n",
    "%time white_clip.write_videofile(white_output, audio=False)"
   ]
  },
  {
   "cell_type": "markdown",
   "metadata": {},
   "source": [
    "你可以直接在 notebook 里播放视频，也可以找到这个目录，然后用电脑里的播放器播放这个视频。"
   ]
  },
  {
   "cell_type": "code",
   "execution_count": null,
   "metadata": {
    "collapsed": true
   },
   "outputs": [],
   "source": [
    "HTML(\"\"\"\n",
    "<video width=\"960\" height=\"540\" controls>\n",
    "  <source src=\"{0}\">\n",
    "</video>\n",
    "\"\"\".format(white_output))"
   ]
  },
  {
   "cell_type": "markdown",
   "metadata": {},
   "source": [
    "## 改进 draw_lines() 函数\n",
    "\n",
    "**如果你已经调试好参数了，现在应该能够在视频上画出霍夫变换检测出来的线段了，但是你的算法是否能够像 P1_example.mp4 的视频中那样，清晰且完整地标注道路线呢？想象一下，在经过霍夫变换检测到线段以后，你可以延伸这条线段，完全贯穿所有的目标区域（ROI）。就像之前提到的那样，你可以尝试平均/延长你检测到的线段，以绘制完整的车道线。你可以在 P1_example.mp4 中看到你要做到的效果。**\n",
    "\n",
    "**返回到上面的 draw_lines 函数，并尝试修改代码，输出的图像应该是在左右各画一条实线，并且应从图像的底部开始，延伸到目标区域（ROI）的顶部。**"
   ]
  },
  {
   "cell_type": "markdown",
   "metadata": {},
   "source": [
    "**现在，左边是黄色的实线，这个更难！**\n",
    "\n",
    "    为了加快测试过程，你可以在较短的视频上尝试你的算法\n",
    "    因此你可以添加 `.subclip(start_second,end_second)` 函数来裁剪视频\n",
    "    其中 start_second 和 end_second 表示剪辑开始和结束的时间\n",
    "    你也可以直接取消注释裁剪前五秒的那句代码。"
   ]
  },
  {
   "cell_type": "code",
   "execution_count": null,
   "metadata": {
    "collapsed": true
   },
   "outputs": [],
   "source": [
    "yellow_output = 'test_videos_output/solidYellowLeft.mp4'\n",
    "clip2 = VideoFileClip('test_videos/solidYellowLeft.mp4')\n",
    "# clip2 = VideoFileClip('test_videos/solidYellowLeft.mp4').subclip(0,5)\n",
    "yellow_clip = clip2.fl_image(process_image)\n",
    "%time yellow_clip.write_videofile(yellow_output, audio=False)"
   ]
  },
  {
   "cell_type": "code",
   "execution_count": null,
   "metadata": {
    "collapsed": true
   },
   "outputs": [],
   "source": [
    "HTML(\"\"\"\n",
    "<video width=\"960\" height=\"540\" controls>\n",
    "  <source src=\"{0}\">\n",
    "</video>\n",
    "\"\"\".format(yellow_output))"
   ]
  },
  {
   "cell_type": "markdown",
   "metadata": {},
   "source": [
    "## 报告\n",
    "\n",
    "如果你觉得视频效果已经很棒了，那么现在就可以开始写报告了。报告的格式应该是 pdf 文件或者 markdown 文件。一旦你完成了 notebook 和报告，那么就可以提交审阅了。这里是报告文件的模板：[writeup_template.md](writeup_template.md)。"
   ]
  },
  {
   "cell_type": "markdown",
   "metadata": {
    "collapsed": true
   },
   "source": [
    "## 挑战（可选）\n",
    "\n",
    "尝试在下面的视频文件上运用你的算法。它的效果仍然很好吗？你能找到方法让你的算法更加稳健吗？\n",
    "\n",
    "如果你想挑战自己，请继续修改你的算法，使算法能够处理下面的视频文件，与你的项目一起提交审阅！"
   ]
  },
  {
   "cell_type": "markdown",
   "metadata": {},
   "source": [
    "    为了加快测试过程，你可以在较短的视频上尝试你的算法\n",
    "    因此你可以添加 `.subclip(start_second,end_second)` 函数来裁剪视频\n",
    "    其中 start_second 和 end_second 表示剪辑开始和结束的时间\n",
    "    你也可以直接取消注释裁剪前五秒的那句代码。"
   ]
  },
  {
   "cell_type": "code",
   "execution_count": null,
   "metadata": {
    "collapsed": true
   },
   "outputs": [],
   "source": [
    "challenge_output = 'test_videos_output/challenge.mp4'\n",
    "clip3 = VideoFileClip('test_videos/challenge.mp4')\n",
    "# clip3 = VideoFileClip('test_videos/challenge.mp4').subclip(0,5)\n",
    "challenge_clip = clip3.fl_image(process_image)\n",
    "%time challenge_clip.write_videofile(challenge_output, audio=False)"
   ]
  },
  {
   "cell_type": "code",
   "execution_count": null,
   "metadata": {
    "collapsed": true
   },
   "outputs": [],
   "source": [
    "HTML(\"\"\"\n",
    "<video width=\"960\" height=\"540\" controls>\n",
    "  <source src=\"{0}\">\n",
    "</video>\n",
    "\"\"\".format(challenge_output))"
   ]
  },
  {
   "cell_type": "code",
   "execution_count": null,
   "metadata": {
    "collapsed": true
   },
   "outputs": [],
   "source": []
  }
 ],
 "metadata": {
  "anaconda-cloud": {},
  "kernelspec": {
   "display_name": "Python 3",
   "language": "python",
   "name": "python3"
  },
  "language_info": {
   "codemirror_mode": {
    "name": "ipython",
    "version": 3
   },
   "file_extension": ".py",
   "mimetype": "text/x-python",
   "name": "python",
   "nbconvert_exporter": "python",
   "pygments_lexer": "ipython3",
   "version": "3.6.3"
  }
 },
 "nbformat": 4,
 "nbformat_minor": 1
}
