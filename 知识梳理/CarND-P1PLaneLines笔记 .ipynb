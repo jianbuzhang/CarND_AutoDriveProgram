{
 "cells": [
  {
   "cell_type": "markdown",
   "metadata": {},
   "source": [
    "# CarND-P1PLaneLines笔记 \n",
    "## 车道线检测的思路\n",
    "**除了课程中介绍的以外，还有一些可能在项目中会很有用的 OpenCV 函数:**\n",
    "\n",
    "* `cv2.inRange()` 用来进行颜色选择\n",
    "* `cv2.fillPoly()` 用来选择目标区域（ROI）\n",
    "* `cv2.line()` 用来在图像上画线\n",
    "* `cv2.addWeighted()`可以按权值叠加两幅图像\n",
    "* `cv2.cvtColor()`可以把图片转为其他的颜色空间，比如灰色\n",
    "* `cv2.imwrite()`可以写出图片到文件\n",
    "* `cv2.bitwise_and()`可以为图像添加蒙版（mask）（比如可以用于抠图）\n",
    "\n",
    "**如果你还想获得更多的功能，寻找更多的函数，请查看 OpenCV Python 教程\n",
    "（[OpenCV-Python Tutorials](http://docs.opencv.org/master/d6/d00/tutorial_py_root.html)）。**\n",
    "\n"
   ]
  },
  {
   "cell_type": "code",
   "execution_count": null,
   "metadata": {
    "collapsed": true
   },
   "outputs": [],
   "source": []
  }
 ],
 "metadata": {
  "kernelspec": {
   "display_name": "Python 3",
   "language": "python",
   "name": "python3"
  },
  "language_info": {
   "codemirror_mode": {
    "name": "ipython",
    "version": 3
   },
   "file_extension": ".py",
   "mimetype": "text/x-python",
   "name": "python",
   "nbconvert_exporter": "python",
   "pygments_lexer": "ipython3",
   "version": "3.6.3"
  }
 },
 "nbformat": 4,
 "nbformat_minor": 2
}
